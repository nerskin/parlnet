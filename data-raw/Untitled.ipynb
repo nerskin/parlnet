{
 "cells": [
  {
   "cell_type": "code",
   "execution_count": 1,
   "metadata": {},
   "outputs": [],
   "source": [
    "from process_speeches import *\n",
    "from bs4 import BeautifulSoup"
   ]
  },
  {
   "cell_type": "code",
   "execution_count": 2,
   "metadata": {},
   "outputs": [
    {
     "data": {
      "text/plain": [
       "False"
      ]
     },
     "execution_count": 2,
     "metadata": {},
     "output_type": "execute_result"
    }
   ],
   "source": [
    "with open('xml_data/2011-05-11-HoR.xml') as f:\n",
    "    dat = f.read()\n",
    "sd = SittingDay(BeautifulSoup(dat))\n",
    "sd.debates[1].subdebates[0].speeches[0].text == sd.debates[1].subdebates[1].speeches[0].text"
   ]
  },
  {
   "cell_type": "code",
   "execution_count": 4,
   "metadata": {},
   "outputs": [],
   "source": [
    "toavoid = BeautifulSoup(dat,'html.parser').find_all('debate')[1].find('subdebate.1').descendant"
   ]
  },
  {
   "cell_type": "code",
   "execution_count": 22,
   "metadata": {},
   "outputs": [
    {
     "data": {
      "text/plain": [
       "<subdebate.1>\n",
       "<subdebateinfo>\n",
       "<title>Education Funding</title>\n",
       "<page.no>3680</page.no>\n",
       "</subdebateinfo>\n",
       "<subdebate.text>\n",
       "<p class=\"HPS-SubDebate\" style=\"direction:ltr;unicode-bidi:normal;\">\n",
       "<span class=\"HPS-SubDebate\">Education Funding</span>\n",
       "</p>\n",
       "</subdebate.text>\n",
       "<speech>\n",
       "<talk.start>\n",
       "<talker>\n",
       "<page.no>3680</page.no>\n",
       "<time.stamp></time.stamp>\n",
       "<name role=\"metadata\">Tudge, Alan, MP</name>\n",
       "<name.id>M2Y</name.id>\n",
       "<electorate>Aston</electorate>\n",
       "<party>LP</party>\n",
       "<in.gov></in.gov>\n",
       "<first.speech></first.speech>\n",
       "</talker>\n",
       "</talk.start>\n",
       "<talk.text>\n",
       "<p class=\"HPS-Normal\" style=\"direction:ltr;unicode-bidi:normal;\">\n",
       "<span class=\"HPS-Normal\">\n",
       "<a href=\"M2Y\" type=\"MemberSpeech\">\n",
       "<span class=\"HPS-MemberSpeech\">Mr TUDGE</span>\n",
       "</a> (<span class=\"HPS-Electorate\">Aston</span>) (<span class=\"HPS-Time\">09:48</span>):  I rise to express my concern in relation to Catholic school funding and the direction in which the government is likely to be taking the school funding regime post the expiration of the existing Schools Assistance Act. I am particularly concerned about the Catholic schools which are deemed to be 'funding maintained'. This constitutes over 1,000 Catholic schools in Australia, including eight in my electorate of Aston. 'Funding maintained', in essence, are those schools that were given a guarantee that they would not lose funding in real terms when they transitioned into the new SES funding system. So it was a very important guarantee that they would continue to have their funding increased in real terms over the course of the next four-year funding period. This funding maintained provision is in jeopardy. Minister Garrett, has more or less said that it will be abolished. He calls funding maintained 'indefensible'. There are eight schools in my electorate which are funding maintained. These are everyday schools servicing everyday parents. Their fees range from as little as $873 per annum to $4,322 per annum. These are low-fee, Catholic schools catering for everyday Australians.</span>\n",
       "</p>\n",
       "<p class=\"HPS-Normal\" style=\"direction:ltr;unicode-bidi:normal;\">\n",
       "<span class=\"HPS-Normal\">The benefits of being on funding maintenance are very significant. For example, St Simon's in Rowville receives $810,000 by being funding maintained and it would not have that money if it were not funding maintained. St Jude's in Scoresby receives $329,000 per annum because of funding maintenance. St Luke's in Wantirna receives $327,000 per annum because it is funding maintained. Those are the figures which are at stake for these schools. When you take those sums and convert them into per capita amounts and talk about having to make those per capita amounts up in school fees, you are talking about a doubling and sometimes a tripling of school fees in order to make up for that lost amount of money.</span>\n",
       "</p>\n",
       "<p class=\"HPS-Normal\" style=\"direction:ltr;unicode-bidi:normal;\">\n",
       "<span class=\"HPS-Normal\">Brian Croke, the Deputy Chair of the National Catholic Education Commission, said that funding maintenance is 'an integral part of the SES model', and simply means that the school is funded at 2000 levels, taking inflation into account. Funding maintenance is a very important provision so that schools, including my eight local, low-fee Catholic schools, do not go backwards and fees do not have to rise excessively. I implore the government to guarantee that no school in my electorate will lose funding in real terms.</span>\n",
       "</p>\n",
       "</talk.text>\n",
       "</speech>\n",
       "</subdebate.1>"
      ]
     },
     "execution_count": 22,
     "metadata": {},
     "output_type": "execute_result"
    }
   ],
   "source": [
    "BeautifulSoup(dat).find_all(re.compile('^subdebate\\.[0-9]$'))[100]"
   ]
  },
  {
   "cell_type": "code",
   "execution_count": null,
   "metadata": {},
   "outputs": [],
   "source": []
  }
 ],
 "metadata": {
  "kernelspec": {
   "display_name": "Python 3",
   "language": "python",
   "name": "python3"
  },
  "language_info": {
   "codemirror_mode": {
    "name": "ipython",
    "version": 3
   },
   "file_extension": ".py",
   "mimetype": "text/x-python",
   "name": "python",
   "nbconvert_exporter": "python",
   "pygments_lexer": "ipython3",
   "version": "3.6.7"
  }
 },
 "nbformat": 4,
 "nbformat_minor": 2
}
